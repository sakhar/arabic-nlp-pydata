{
  "nbformat": 4,
  "nbformat_minor": 0,
  "metadata": {
    "colab": {
      "name": "Camel demo.ipynb",
      "provenance": [],
      "authorship_tag": "ABX9TyOGFJSKpe8YtR5n35IrvHu6",
      "include_colab_link": true
    },
    "kernelspec": {
      "name": "python3",
      "display_name": "Python 3"
    }
  },
  "cells": [
    {
      "cell_type": "markdown",
      "metadata": {
        "id": "view-in-github",
        "colab_type": "text"
      },
      "source": [
        "<a href=\"https://colab.research.google.com/github/sakhar/arabic-nlp-pydata/blob/main/Camel_demo.ipynb\" target=\"_parent\"><img src=\"https://colab.research.google.com/assets/colab-badge.svg\" alt=\"Open In Colab\"/></a>"
      ]
    },
    {
      "cell_type": "markdown",
      "metadata": {
        "id": "HRmmBxBJe9Ti"
      },
      "source": [
        "# Before Starting\n",
        "* Create a folder named \"pydata-arabic-nlp\" in your Google Drive\n",
        "* Upload \"camel_tools_data_v1.zip\" to that folder (download from \n",
        "[here](https://github.com/CAMeL-Lab/camel_tools))\n"
      ]
    },
    {
      "cell_type": "code",
      "metadata": {
        "id": "S4pk8woyMjf3",
        "outputId": "ff8e2c0e-d51c-40b0-e0e0-ad0c5f455e87",
        "colab": {
          "base_uri": "https://localhost:8080/"
        }
      },
      "source": [
        "# mounting Google Drive to Colab\n",
        "from google.colab import drive\n",
        "import os\n",
        "drive.mount('/gdrive', force_remount=True)\n",
        "\n",
        "# your google drive path\n",
        "GD_PRJOECT_DIR = 'pydata-arabic-nlp'\n",
        "#os.chdir('/gdrive/My Drive/pydata-arabic-nlp')\n",
        "os.chdir(os.path.join('/gdrive/My Drive/','pydata-arabic-nlp'))"
      ],
      "execution_count": 2,
      "outputs": [
        {
          "output_type": "stream",
          "text": [
            "Mounted at /gdrive\n"
          ],
          "name": "stdout"
        }
      ]
    },
    {
      "cell_type": "code",
      "metadata": {
        "id": "_twlI5fsPXSe",
        "outputId": "e9d6603e-c13f-4cd0-c9de-2de2fd761624",
        "colab": {
          "base_uri": "https://localhost:8080/"
        }
      },
      "source": [
        "# install camel data\n",
        "!unzip camel_tools_data_v1.zip -d ~/.camel_tools"
      ],
      "execution_count": 3,
      "outputs": [
        {
          "output_type": "stream",
          "text": [
            "Archive:  camel_tools_data_v1.zip\n",
            "   creating: /root/.camel_tools/camel_tools_data_v1/\n",
            "  inflating: /root/.camel_tools/__MACOSX/._camel_tools_data_v1  \n",
            "   creating: /root/.camel_tools/camel_tools_data_v1/data/\n",
            "  inflating: /root/.camel_tools/__MACOSX/camel_tools_data_v1/._data  \n",
            "   creating: /root/.camel_tools/camel_tools_data_v1/data/dialectid/\n",
            "  inflating: /root/.camel_tools/__MACOSX/camel_tools_data_v1/data/._dialectid  \n",
            "   creating: /root/.camel_tools/camel_tools_data_v1/data/ner/\n",
            "  inflating: /root/.camel_tools/__MACOSX/camel_tools_data_v1/data/._ner  \n",
            "   creating: /root/.camel_tools/camel_tools_data_v1/data/morphology_db/\n",
            "  inflating: /root/.camel_tools/__MACOSX/camel_tools_data_v1/data/._morphology_db  \n",
            "   creating: /root/.camel_tools/camel_tools_data_v1/data/disambig_mle/\n",
            "  inflating: /root/.camel_tools/__MACOSX/camel_tools_data_v1/data/._disambig_mle  \n",
            "   creating: /root/.camel_tools/camel_tools_data_v1/data/sentiment_analysis/\n",
            "  inflating: /root/.camel_tools/__MACOSX/camel_tools_data_v1/data/._sentiment_analysis  \n",
            "   creating: /root/.camel_tools/camel_tools_data_v1/data/dialectid/default/\n",
            "  inflating: /root/.camel_tools/__MACOSX/camel_tools_data_v1/data/dialectid/._default  \n",
            "   creating: /root/.camel_tools/camel_tools_data_v1/data/ner/arabert/\n",
            "  inflating: /root/.camel_tools/__MACOSX/camel_tools_data_v1/data/ner/._arabert  \n",
            "   creating: /root/.camel_tools/camel_tools_data_v1/data/morphology_db/calima-msa-r13/\n",
            "  inflating: /root/.camel_tools/__MACOSX/camel_tools_data_v1/data/morphology_db/._calima-msa-r13  \n",
            "   creating: /root/.camel_tools/camel_tools_data_v1/data/morphology_db/calima-egy-r13/\n",
            "   creating: /root/.camel_tools/camel_tools_data_v1/data/disambig_mle/calima-msa-r13/\n",
            "  inflating: /root/.camel_tools/__MACOSX/camel_tools_data_v1/data/disambig_mle/._calima-msa-r13  \n",
            "   creating: /root/.camel_tools/camel_tools_data_v1/data/disambig_mle/calima-egy-r13/\n",
            "   creating: /root/.camel_tools/camel_tools_data_v1/data/sentiment_analysis/arabert/\n",
            "  inflating: /root/.camel_tools/__MACOSX/camel_tools_data_v1/data/sentiment_analysis/._arabert  \n",
            "   creating: /root/.camel_tools/camel_tools_data_v1/data/sentiment_analysis/mbert/\n",
            "  inflating: /root/.camel_tools/__MACOSX/camel_tools_data_v1/data/sentiment_analysis/._mbert  \n",
            "   creating: /root/.camel_tools/camel_tools_data_v1/data/dialectid/default/lm/\n",
            "  inflating: /root/.camel_tools/__MACOSX/camel_tools_data_v1/data/dialectid/default/._lm  \n",
            "  inflating: /root/.camel_tools/camel_tools_data_v1/data/dialectid/default/did_pretrained_37.dill  \n",
            "  inflating: /root/.camel_tools/__MACOSX/camel_tools_data_v1/data/dialectid/default/._did_pretrained_37.dill  \n",
            "  inflating: /root/.camel_tools/camel_tools_data_v1/data/dialectid/default/did_pretrained_36.dill  \n",
            "  inflating: /root/.camel_tools/__MACOSX/camel_tools_data_v1/data/dialectid/default/._did_pretrained_36.dill  \n",
            "  inflating: /root/.camel_tools/camel_tools_data_v1/data/dialectid/default/did_pretrained_38.dill  \n",
            "  inflating: /root/.camel_tools/__MACOSX/camel_tools_data_v1/data/dialectid/default/._did_pretrained_38.dill  \n",
            "  inflating: /root/.camel_tools/camel_tools_data_v1/data/ner/arabert/LICENSE  \n",
            "  inflating: /root/.camel_tools/__MACOSX/camel_tools_data_v1/data/ner/arabert/._LICENSE  \n",
            "  inflating: /root/.camel_tools/camel_tools_data_v1/data/ner/arabert/tokenizer_config.json  \n",
            "  inflating: /root/.camel_tools/__MACOSX/camel_tools_data_v1/data/ner/arabert/._tokenizer_config.json  \n",
            "  inflating: /root/.camel_tools/camel_tools_data_v1/data/ner/arabert/special_tokens_map.json  \n",
            "  inflating: /root/.camel_tools/__MACOSX/camel_tools_data_v1/data/ner/arabert/._special_tokens_map.json  \n",
            "  inflating: /root/.camel_tools/camel_tools_data_v1/data/ner/arabert/config.json  \n",
            "  inflating: /root/.camel_tools/__MACOSX/camel_tools_data_v1/data/ner/arabert/._config.json  \n",
            "  inflating: /root/.camel_tools/camel_tools_data_v1/data/ner/arabert/training_args.bin  \n",
            "  inflating: /root/.camel_tools/__MACOSX/camel_tools_data_v1/data/ner/arabert/._training_args.bin  \n",
            "  inflating: /root/.camel_tools/camel_tools_data_v1/data/ner/arabert/vocab.txt  \n",
            "  inflating: /root/.camel_tools/__MACOSX/camel_tools_data_v1/data/ner/arabert/._vocab.txt  \n",
            "  inflating: /root/.camel_tools/camel_tools_data_v1/data/ner/arabert/pytorch_model.bin  \n",
            "  inflating: /root/.camel_tools/__MACOSX/camel_tools_data_v1/data/ner/arabert/._pytorch_model.bin  \n",
            "  inflating: /root/.camel_tools/camel_tools_data_v1/data/morphology_db/calima-msa-r13/morphology.db  \n",
            "  inflating: /root/.camel_tools/__MACOSX/camel_tools_data_v1/data/morphology_db/calima-msa-r13/._morphology.db  \n",
            "  inflating: /root/.camel_tools/camel_tools_data_v1/data/morphology_db/calima-msa-r13/LICENSE  \n",
            "  inflating: /root/.camel_tools/__MACOSX/camel_tools_data_v1/data/morphology_db/calima-msa-r13/._LICENSE  \n",
            "  inflating: /root/.camel_tools/camel_tools_data_v1/data/morphology_db/calima-egy-r13/morphology.db  \n",
            "  inflating: /root/.camel_tools/__MACOSX/camel_tools_data_v1/data/morphology_db/calima-egy-r13/._morphology.db  \n",
            "  inflating: /root/.camel_tools/camel_tools_data_v1/data/morphology_db/calima-egy-r13/LICENSE  \n",
            "  inflating: /root/.camel_tools/__MACOSX/camel_tools_data_v1/data/morphology_db/calima-egy-r13/._LICENSE  \n",
            "  inflating: /root/.camel_tools/camel_tools_data_v1/data/disambig_mle/calima-msa-r13/model.json  \n",
            "  inflating: /root/.camel_tools/__MACOSX/camel_tools_data_v1/data/disambig_mle/calima-msa-r13/._model.json  \n",
            "  inflating: /root/.camel_tools/camel_tools_data_v1/data/disambig_mle/calima-msa-r13/LICENSE  \n",
            "  inflating: /root/.camel_tools/__MACOSX/camel_tools_data_v1/data/disambig_mle/calima-msa-r13/._LICENSE  \n",
            "  inflating: /root/.camel_tools/camel_tools_data_v1/data/disambig_mle/calima-egy-r13/model.json  \n",
            "  inflating: /root/.camel_tools/__MACOSX/camel_tools_data_v1/data/disambig_mle/calima-egy-r13/._model.json  \n",
            "  inflating: /root/.camel_tools/camel_tools_data_v1/data/disambig_mle/calima-egy-r13/LICENSE  \n",
            "  inflating: /root/.camel_tools/__MACOSX/camel_tools_data_v1/data/disambig_mle/calima-egy-r13/._LICENSE  \n",
            "  inflating: /root/.camel_tools/camel_tools_data_v1/data/sentiment_analysis/arabert/LICENSE  \n",
            "  inflating: /root/.camel_tools/__MACOSX/camel_tools_data_v1/data/sentiment_analysis/arabert/._LICENSE  \n",
            "  inflating: /root/.camel_tools/camel_tools_data_v1/data/sentiment_analysis/arabert/tokenizer_config.json  \n",
            "  inflating: /root/.camel_tools/__MACOSX/camel_tools_data_v1/data/sentiment_analysis/arabert/._tokenizer_config.json  \n",
            "  inflating: /root/.camel_tools/camel_tools_data_v1/data/sentiment_analysis/arabert/special_tokens_map.json  \n",
            "  inflating: /root/.camel_tools/__MACOSX/camel_tools_data_v1/data/sentiment_analysis/arabert/._special_tokens_map.json  \n",
            "  inflating: /root/.camel_tools/camel_tools_data_v1/data/sentiment_analysis/arabert/config.json  \n",
            "  inflating: /root/.camel_tools/__MACOSX/camel_tools_data_v1/data/sentiment_analysis/arabert/._config.json  \n",
            "  inflating: /root/.camel_tools/camel_tools_data_v1/data/sentiment_analysis/arabert/training_args.bin  \n",
            "  inflating: /root/.camel_tools/__MACOSX/camel_tools_data_v1/data/sentiment_analysis/arabert/._training_args.bin  \n",
            "  inflating: /root/.camel_tools/camel_tools_data_v1/data/sentiment_analysis/arabert/vocab.txt  \n",
            "  inflating: /root/.camel_tools/__MACOSX/camel_tools_data_v1/data/sentiment_analysis/arabert/._vocab.txt  \n",
            "  inflating: /root/.camel_tools/camel_tools_data_v1/data/sentiment_analysis/arabert/pytorch_model.bin  \n",
            "  inflating: /root/.camel_tools/__MACOSX/camel_tools_data_v1/data/sentiment_analysis/arabert/._pytorch_model.bin  \n",
            "  inflating: /root/.camel_tools/camel_tools_data_v1/data/sentiment_analysis/mbert/LICENSE  \n",
            "  inflating: /root/.camel_tools/__MACOSX/camel_tools_data_v1/data/sentiment_analysis/mbert/._LICENSE  \n",
            "  inflating: /root/.camel_tools/camel_tools_data_v1/data/sentiment_analysis/mbert/tokenizer_config.json  \n",
            "  inflating: /root/.camel_tools/__MACOSX/camel_tools_data_v1/data/sentiment_analysis/mbert/._tokenizer_config.json  \n",
            "  inflating: /root/.camel_tools/camel_tools_data_v1/data/sentiment_analysis/mbert/special_tokens_map.json  \n",
            "  inflating: /root/.camel_tools/__MACOSX/camel_tools_data_v1/data/sentiment_analysis/mbert/._special_tokens_map.json  \n",
            "  inflating: /root/.camel_tools/camel_tools_data_v1/data/sentiment_analysis/mbert/config.json  \n",
            "  inflating: /root/.camel_tools/__MACOSX/camel_tools_data_v1/data/sentiment_analysis/mbert/._config.json  \n",
            "  inflating: /root/.camel_tools/camel_tools_data_v1/data/sentiment_analysis/mbert/training_args.bin  \n",
            "  inflating: /root/.camel_tools/__MACOSX/camel_tools_data_v1/data/sentiment_analysis/mbert/._training_args.bin  \n",
            "  inflating: /root/.camel_tools/camel_tools_data_v1/data/sentiment_analysis/mbert/vocab.txt  \n",
            "  inflating: /root/.camel_tools/__MACOSX/camel_tools_data_v1/data/sentiment_analysis/mbert/._vocab.txt  \n",
            "  inflating: /root/.camel_tools/camel_tools_data_v1/data/sentiment_analysis/mbert/pytorch_model.bin  \n",
            "  inflating: /root/.camel_tools/__MACOSX/camel_tools_data_v1/data/sentiment_analysis/mbert/._pytorch_model.bin  \n",
            "   creating: /root/.camel_tools/camel_tools_data_v1/data/dialectid/default/lm/char/\n",
            "  inflating: /root/.camel_tools/__MACOSX/camel_tools_data_v1/data/dialectid/default/lm/._char  \n",
            "   creating: /root/.camel_tools/camel_tools_data_v1/data/dialectid/default/lm/word/\n",
            "  inflating: /root/.camel_tools/__MACOSX/camel_tools_data_v1/data/dialectid/default/lm/._word  \n",
            "  inflating: /root/.camel_tools/camel_tools_data_v1/data/dialectid/default/lm/char/MOS.arpa  \n",
            "  inflating: /root/.camel_tools/__MACOSX/camel_tools_data_v1/data/dialectid/default/lm/char/._MOS.arpa  \n",
            "  inflating: /root/.camel_tools/camel_tools_data_v1/data/dialectid/default/lm/char/FES.arpa  \n",
            "  inflating: /root/.camel_tools/__MACOSX/camel_tools_data_v1/data/dialectid/default/lm/char/._FES.arpa  \n",
            "  inflating: /root/.camel_tools/camel_tools_data_v1/data/dialectid/default/lm/char/MSA.arpa  \n",
            "  inflating: /root/.camel_tools/__MACOSX/camel_tools_data_v1/data/dialectid/default/lm/char/._MSA.arpa  \n",
            "  inflating: /root/.camel_tools/camel_tools_data_v1/data/dialectid/default/lm/char/DOH.arpa  \n",
            "  inflating: /root/.camel_tools/__MACOSX/camel_tools_data_v1/data/dialectid/default/lm/char/._DOH.arpa  \n",
            "  inflating: /root/.camel_tools/camel_tools_data_v1/data/dialectid/default/lm/char/JER.arpa  \n",
            "  inflating: /root/.camel_tools/__MACOSX/camel_tools_data_v1/data/dialectid/default/lm/char/._JER.arpa  \n",
            "  inflating: /root/.camel_tools/camel_tools_data_v1/data/dialectid/default/lm/char/CAI.arpa  \n",
            "  inflating: /root/.camel_tools/__MACOSX/camel_tools_data_v1/data/dialectid/default/lm/char/._CAI.arpa  \n",
            "  inflating: /root/.camel_tools/camel_tools_data_v1/data/dialectid/default/lm/char/ALX.arpa  \n",
            "  inflating: /root/.camel_tools/__MACOSX/camel_tools_data_v1/data/dialectid/default/lm/char/._ALX.arpa  \n",
            "  inflating: /root/.camel_tools/camel_tools_data_v1/data/dialectid/default/lm/char/SAN.arpa  \n",
            "  inflating: /root/.camel_tools/__MACOSX/camel_tools_data_v1/data/dialectid/default/lm/char/._SAN.arpa  \n",
            "  inflating: /root/.camel_tools/camel_tools_data_v1/data/dialectid/default/lm/char/KHA.arpa  \n",
            "  inflating: /root/.camel_tools/__MACOSX/camel_tools_data_v1/data/dialectid/default/lm/char/._KHA.arpa  \n",
            "  inflating: /root/.camel_tools/camel_tools_data_v1/data/dialectid/default/lm/char/BAS.arpa  \n",
            "  inflating: /root/.camel_tools/__MACOSX/camel_tools_data_v1/data/dialectid/default/lm/char/._BAS.arpa  \n",
            "  inflating: /root/.camel_tools/camel_tools_data_v1/data/dialectid/default/lm/char/TUN.arpa  \n",
            "  inflating: /root/.camel_tools/__MACOSX/camel_tools_data_v1/data/dialectid/default/lm/char/._TUN.arpa  \n",
            "  inflating: /root/.camel_tools/camel_tools_data_v1/data/dialectid/default/lm/char/TRI.arpa  \n",
            "  inflating: /root/.camel_tools/__MACOSX/camel_tools_data_v1/data/dialectid/default/lm/char/._TRI.arpa  \n",
            "  inflating: /root/.camel_tools/camel_tools_data_v1/data/dialectid/default/lm/char/MUS.arpa  \n",
            "  inflating: /root/.camel_tools/__MACOSX/camel_tools_data_v1/data/dialectid/default/lm/char/._MUS.arpa  \n",
            "  inflating: /root/.camel_tools/camel_tools_data_v1/data/dialectid/default/lm/char/AMM.arpa  \n",
            "  inflating: /root/.camel_tools/__MACOSX/camel_tools_data_v1/data/dialectid/default/lm/char/._AMM.arpa  \n",
            "  inflating: /root/.camel_tools/camel_tools_data_v1/data/dialectid/default/lm/char/DAM.arpa  \n",
            "  inflating: /root/.camel_tools/__MACOSX/camel_tools_data_v1/data/dialectid/default/lm/char/._DAM.arpa  \n",
            "  inflating: /root/.camel_tools/camel_tools_data_v1/data/dialectid/default/lm/char/BAG.arpa  \n",
            "  inflating: /root/.camel_tools/__MACOSX/camel_tools_data_v1/data/dialectid/default/lm/char/._BAG.arpa  \n",
            "  inflating: /root/.camel_tools/camel_tools_data_v1/data/dialectid/default/lm/char/ALG.arpa  \n",
            "  inflating: /root/.camel_tools/__MACOSX/camel_tools_data_v1/data/dialectid/default/lm/char/._ALG.arpa  \n",
            "  inflating: /root/.camel_tools/camel_tools_data_v1/data/dialectid/default/lm/char/BEI.arpa  \n",
            "  inflating: /root/.camel_tools/__MACOSX/camel_tools_data_v1/data/dialectid/default/lm/char/._BEI.arpa  \n",
            "  inflating: /root/.camel_tools/camel_tools_data_v1/data/dialectid/default/lm/char/RIY.arpa  \n",
            "  inflating: /root/.camel_tools/__MACOSX/camel_tools_data_v1/data/dialectid/default/lm/char/._RIY.arpa  \n",
            "  inflating: /root/.camel_tools/camel_tools_data_v1/data/dialectid/default/lm/char/SFX.arpa  \n",
            "  inflating: /root/.camel_tools/__MACOSX/camel_tools_data_v1/data/dialectid/default/lm/char/._SFX.arpa  \n",
            "  inflating: /root/.camel_tools/camel_tools_data_v1/data/dialectid/default/lm/char/RAB.arpa  \n",
            "  inflating: /root/.camel_tools/__MACOSX/camel_tools_data_v1/data/dialectid/default/lm/char/._RAB.arpa  \n",
            "  inflating: /root/.camel_tools/camel_tools_data_v1/data/dialectid/default/lm/char/ALE.arpa  \n",
            "  inflating: /root/.camel_tools/__MACOSX/camel_tools_data_v1/data/dialectid/default/lm/char/._ALE.arpa  \n",
            "  inflating: /root/.camel_tools/camel_tools_data_v1/data/dialectid/default/lm/char/JED.arpa  \n",
            "  inflating: /root/.camel_tools/__MACOSX/camel_tools_data_v1/data/dialectid/default/lm/char/._JED.arpa  \n",
            "  inflating: /root/.camel_tools/camel_tools_data_v1/data/dialectid/default/lm/char/ASW.arpa  \n",
            "  inflating: /root/.camel_tools/__MACOSX/camel_tools_data_v1/data/dialectid/default/lm/char/._ASW.arpa  \n",
            "  inflating: /root/.camel_tools/camel_tools_data_v1/data/dialectid/default/lm/char/SAL.arpa  \n",
            "  inflating: /root/.camel_tools/__MACOSX/camel_tools_data_v1/data/dialectid/default/lm/char/._SAL.arpa  \n",
            "  inflating: /root/.camel_tools/camel_tools_data_v1/data/dialectid/default/lm/char/BEN.arpa  \n",
            "  inflating: /root/.camel_tools/__MACOSX/camel_tools_data_v1/data/dialectid/default/lm/char/._BEN.arpa  \n",
            "  inflating: /root/.camel_tools/camel_tools_data_v1/data/dialectid/default/lm/word/MOS.arpa  \n",
            "  inflating: /root/.camel_tools/__MACOSX/camel_tools_data_v1/data/dialectid/default/lm/word/._MOS.arpa  \n",
            "  inflating: /root/.camel_tools/camel_tools_data_v1/data/dialectid/default/lm/word/FES.arpa  \n",
            "  inflating: /root/.camel_tools/__MACOSX/camel_tools_data_v1/data/dialectid/default/lm/word/._FES.arpa  \n",
            "  inflating: /root/.camel_tools/camel_tools_data_v1/data/dialectid/default/lm/word/MSA.arpa  \n",
            "  inflating: /root/.camel_tools/__MACOSX/camel_tools_data_v1/data/dialectid/default/lm/word/._MSA.arpa  \n",
            "  inflating: /root/.camel_tools/camel_tools_data_v1/data/dialectid/default/lm/word/DOH.arpa  \n",
            "  inflating: /root/.camel_tools/__MACOSX/camel_tools_data_v1/data/dialectid/default/lm/word/._DOH.arpa  \n",
            "  inflating: /root/.camel_tools/camel_tools_data_v1/data/dialectid/default/lm/word/JER.arpa  \n",
            "  inflating: /root/.camel_tools/__MACOSX/camel_tools_data_v1/data/dialectid/default/lm/word/._JER.arpa  \n",
            "  inflating: /root/.camel_tools/camel_tools_data_v1/data/dialectid/default/lm/word/CAI.arpa  \n",
            "  inflating: /root/.camel_tools/__MACOSX/camel_tools_data_v1/data/dialectid/default/lm/word/._CAI.arpa  \n",
            "  inflating: /root/.camel_tools/camel_tools_data_v1/data/dialectid/default/lm/word/ALX.arpa  \n",
            "  inflating: /root/.camel_tools/__MACOSX/camel_tools_data_v1/data/dialectid/default/lm/word/._ALX.arpa  \n",
            "  inflating: /root/.camel_tools/camel_tools_data_v1/data/dialectid/default/lm/word/SAN.arpa  \n",
            "  inflating: /root/.camel_tools/__MACOSX/camel_tools_data_v1/data/dialectid/default/lm/word/._SAN.arpa  \n",
            "  inflating: /root/.camel_tools/camel_tools_data_v1/data/dialectid/default/lm/word/KHA.arpa  \n",
            "  inflating: /root/.camel_tools/__MACOSX/camel_tools_data_v1/data/dialectid/default/lm/word/._KHA.arpa  \n",
            "  inflating: /root/.camel_tools/camel_tools_data_v1/data/dialectid/default/lm/word/BAS.arpa  \n",
            "  inflating: /root/.camel_tools/__MACOSX/camel_tools_data_v1/data/dialectid/default/lm/word/._BAS.arpa  \n",
            "  inflating: /root/.camel_tools/camel_tools_data_v1/data/dialectid/default/lm/word/TUN.arpa  \n",
            "  inflating: /root/.camel_tools/__MACOSX/camel_tools_data_v1/data/dialectid/default/lm/word/._TUN.arpa  \n",
            "  inflating: /root/.camel_tools/camel_tools_data_v1/data/dialectid/default/lm/word/TRI.arpa  \n",
            "  inflating: /root/.camel_tools/__MACOSX/camel_tools_data_v1/data/dialectid/default/lm/word/._TRI.arpa  \n",
            "  inflating: /root/.camel_tools/camel_tools_data_v1/data/dialectid/default/lm/word/MUS.arpa  \n",
            "  inflating: /root/.camel_tools/__MACOSX/camel_tools_data_v1/data/dialectid/default/lm/word/._MUS.arpa  \n",
            "  inflating: /root/.camel_tools/camel_tools_data_v1/data/dialectid/default/lm/word/AMM.arpa  \n",
            "  inflating: /root/.camel_tools/__MACOSX/camel_tools_data_v1/data/dialectid/default/lm/word/._AMM.arpa  \n",
            "  inflating: /root/.camel_tools/camel_tools_data_v1/data/dialectid/default/lm/word/DAM.arpa  \n",
            "  inflating: /root/.camel_tools/__MACOSX/camel_tools_data_v1/data/dialectid/default/lm/word/._DAM.arpa  \n",
            "  inflating: /root/.camel_tools/camel_tools_data_v1/data/dialectid/default/lm/word/BAG.arpa  \n",
            "  inflating: /root/.camel_tools/__MACOSX/camel_tools_data_v1/data/dialectid/default/lm/word/._BAG.arpa  \n",
            "  inflating: /root/.camel_tools/camel_tools_data_v1/data/dialectid/default/lm/word/ALG.arpa  \n",
            "  inflating: /root/.camel_tools/__MACOSX/camel_tools_data_v1/data/dialectid/default/lm/word/._ALG.arpa  \n",
            "  inflating: /root/.camel_tools/camel_tools_data_v1/data/dialectid/default/lm/word/BEI.arpa  \n",
            "  inflating: /root/.camel_tools/__MACOSX/camel_tools_data_v1/data/dialectid/default/lm/word/._BEI.arpa  \n",
            "  inflating: /root/.camel_tools/camel_tools_data_v1/data/dialectid/default/lm/word/RIY.arpa  \n",
            "  inflating: /root/.camel_tools/__MACOSX/camel_tools_data_v1/data/dialectid/default/lm/word/._RIY.arpa  \n",
            "  inflating: /root/.camel_tools/camel_tools_data_v1/data/dialectid/default/lm/word/SFX.arpa  \n",
            "  inflating: /root/.camel_tools/__MACOSX/camel_tools_data_v1/data/dialectid/default/lm/word/._SFX.arpa  \n",
            "  inflating: /root/.camel_tools/camel_tools_data_v1/data/dialectid/default/lm/word/RAB.arpa  \n",
            "  inflating: /root/.camel_tools/__MACOSX/camel_tools_data_v1/data/dialectid/default/lm/word/._RAB.arpa  \n",
            "  inflating: /root/.camel_tools/camel_tools_data_v1/data/dialectid/default/lm/word/ALE.arpa  \n",
            "  inflating: /root/.camel_tools/__MACOSX/camel_tools_data_v1/data/dialectid/default/lm/word/._ALE.arpa  \n",
            "  inflating: /root/.camel_tools/camel_tools_data_v1/data/dialectid/default/lm/word/JED.arpa  \n",
            "  inflating: /root/.camel_tools/__MACOSX/camel_tools_data_v1/data/dialectid/default/lm/word/._JED.arpa  \n",
            "  inflating: /root/.camel_tools/camel_tools_data_v1/data/dialectid/default/lm/word/ASW.arpa  \n",
            "  inflating: /root/.camel_tools/__MACOSX/camel_tools_data_v1/data/dialectid/default/lm/word/._ASW.arpa  \n",
            "  inflating: /root/.camel_tools/camel_tools_data_v1/data/dialectid/default/lm/word/SAL.arpa  \n",
            "  inflating: /root/.camel_tools/__MACOSX/camel_tools_data_v1/data/dialectid/default/lm/word/._SAL.arpa  \n",
            "  inflating: /root/.camel_tools/camel_tools_data_v1/data/dialectid/default/lm/word/BEN.arpa  \n",
            "  inflating: /root/.camel_tools/__MACOSX/camel_tools_data_v1/data/dialectid/default/lm/word/._BEN.arpa  \n"
          ],
          "name": "stdout"
        }
      ]
    },
    {
      "cell_type": "code",
      "metadata": {
        "id": "KZk6C3hHPmyU",
        "outputId": "5e9bc7ab-4628-45d9-9124-0e720151298c",
        "colab": {
          "base_uri": "https://localhost:8080/"
        }
      },
      "source": [
        "# export CAMELTOOLS_DATA path (must be before installation)\n",
        "%env CAMELTOOLS_DATA=/root/.camel_tools/camel_tools_data_v1/"
      ],
      "execution_count": 4,
      "outputs": [
        {
          "output_type": "stream",
          "text": [
            "env: CAMELTOOLS_DATA=/root/.camel_tools/camel_tools_data_v1/\n"
          ],
          "name": "stdout"
        }
      ]
    },
    {
      "cell_type": "code",
      "metadata": {
        "id": "19LLKU1XPqTf",
        "outputId": "7612d135-a874-4712-8ea3-b403b98f368c",
        "colab": {
          "base_uri": "https://localhost:8080/"
        }
      },
      "source": [
        "!ls ~/.camel_tools/camel_tools_data_v1/data/ner/arabert\n",
        "!ls /root/.camel_tools/data/"
      ],
      "execution_count": 5,
      "outputs": [
        {
          "output_type": "stream",
          "text": [
            "config.json  pytorch_model.bin\t      tokenizer_config.json  vocab.txt\n",
            "LICENSE      special_tokens_map.json  training_args.bin\n",
            "ls: cannot access '/root/.camel_tools/data/': No such file or directory\n"
          ],
          "name": "stdout"
        }
      ]
    },
    {
      "cell_type": "code",
      "metadata": {
        "id": "kvKVw7cCPwqm",
        "outputId": "fa64a977-8b7e-4e1e-b432-60371a4df93a",
        "colab": {
          "base_uri": "https://localhost:8080/"
        }
      },
      "source": [
        "# install camel tools from source\n",
        "!pip install git+https://github.com/CAMeL-Lab/camel_tools\n",
        "#!pip install --upgrade --force-reinstall git+https://github.com/CAMeL-Lab/camel_tools"
      ],
      "execution_count": 6,
      "outputs": [
        {
          "output_type": "stream",
          "text": [
            "Collecting git+https://github.com/CAMeL-Lab/camel_tools\n",
            "  Cloning https://github.com/CAMeL-Lab/camel_tools to /tmp/pip-req-build-3g0qee8a\n",
            "  Running command git clone -q https://github.com/CAMeL-Lab/camel_tools /tmp/pip-req-build-3g0qee8a\n",
            "Requirement already satisfied: future in /usr/local/lib/python3.6/dist-packages (from camel-tools==0.4.dev5) (0.16.0)\n",
            "Requirement already satisfied: six in /usr/local/lib/python3.6/dist-packages (from camel-tools==0.4.dev5) (1.15.0)\n",
            "Requirement already satisfied: docopt in /usr/local/lib/python3.6/dist-packages (from camel-tools==0.4.dev5) (0.6.2)\n",
            "Requirement already satisfied: cachetools in /usr/local/lib/python3.6/dist-packages (from camel-tools==0.4.dev5) (4.1.1)\n",
            "Requirement already satisfied: numpy in /usr/local/lib/python3.6/dist-packages (from camel-tools==0.4.dev5) (1.18.5)\n",
            "Requirement already satisfied: scipy in /usr/local/lib/python3.6/dist-packages (from camel-tools==0.4.dev5) (1.4.1)\n",
            "Requirement already satisfied: pandas in /usr/local/lib/python3.6/dist-packages (from camel-tools==0.4.dev5) (1.1.3)\n",
            "Requirement already satisfied: scikit-learn in /usr/local/lib/python3.6/dist-packages (from camel-tools==0.4.dev5) (0.22.2.post1)\n",
            "Requirement already satisfied: dill in /usr/local/lib/python3.6/dist-packages (from camel-tools==0.4.dev5) (0.3.2)\n",
            "Requirement already satisfied: torch>=1.3 in /usr/local/lib/python3.6/dist-packages (from camel-tools==0.4.dev5) (1.6.0+cu101)\n",
            "Collecting transformers==3.0.2\n",
            "\u001b[?25l  Downloading https://files.pythonhosted.org/packages/27/3c/91ed8f5c4e7ef3227b4119200fc0ed4b4fd965b1f0172021c25701087825/transformers-3.0.2-py3-none-any.whl (769kB)\n",
            "\u001b[K     |████████████████████████████████| 778kB 2.7MB/s \n",
            "\u001b[?25hRequirement already satisfied: editdistance in /usr/local/lib/python3.6/dist-packages (from camel-tools==0.4.dev5) (0.5.3)\n",
            "Collecting kenlm@ https://github.com/kpu/kenlm/archive/master.zip\n",
            "\u001b[?25l  Downloading https://github.com/kpu/kenlm/archive/master.zip\n",
            "\u001b[K     | 2.9MB 4.1MB/s\n",
            "\u001b[?25hRequirement already satisfied: python-dateutil>=2.7.3 in /usr/local/lib/python3.6/dist-packages (from pandas->camel-tools==0.4.dev5) (2.8.1)\n",
            "Requirement already satisfied: pytz>=2017.2 in /usr/local/lib/python3.6/dist-packages (from pandas->camel-tools==0.4.dev5) (2018.9)\n",
            "Requirement already satisfied: joblib>=0.11 in /usr/local/lib/python3.6/dist-packages (from scikit-learn->camel-tools==0.4.dev5) (0.17.0)\n",
            "Collecting sacremoses\n",
            "\u001b[?25l  Downloading https://files.pythonhosted.org/packages/7d/34/09d19aff26edcc8eb2a01bed8e98f13a1537005d31e95233fd48216eed10/sacremoses-0.0.43.tar.gz (883kB)\n",
            "\u001b[K     |████████████████████████████████| 890kB 9.9MB/s \n",
            "\u001b[?25hRequirement already satisfied: dataclasses; python_version < \"3.7\" in /usr/local/lib/python3.6/dist-packages (from transformers==3.0.2->camel-tools==0.4.dev5) (0.7)\n",
            "Requirement already satisfied: tqdm>=4.27 in /usr/local/lib/python3.6/dist-packages (from transformers==3.0.2->camel-tools==0.4.dev5) (4.41.1)\n",
            "Collecting sentencepiece!=0.1.92\n",
            "\u001b[?25l  Downloading https://files.pythonhosted.org/packages/e5/2d/6d4ca4bef9a67070fa1cac508606328329152b1df10bdf31fb6e4e727894/sentencepiece-0.1.94-cp36-cp36m-manylinux2014_x86_64.whl (1.1MB)\n",
            "\u001b[K     |████████████████████████████████| 1.1MB 18.4MB/s \n",
            "\u001b[?25hRequirement already satisfied: packaging in /usr/local/lib/python3.6/dist-packages (from transformers==3.0.2->camel-tools==0.4.dev5) (20.4)\n",
            "Requirement already satisfied: requests in /usr/local/lib/python3.6/dist-packages (from transformers==3.0.2->camel-tools==0.4.dev5) (2.23.0)\n",
            "Requirement already satisfied: regex!=2019.12.17 in /usr/local/lib/python3.6/dist-packages (from transformers==3.0.2->camel-tools==0.4.dev5) (2019.12.20)\n",
            "Requirement already satisfied: filelock in /usr/local/lib/python3.6/dist-packages (from transformers==3.0.2->camel-tools==0.4.dev5) (3.0.12)\n",
            "Collecting tokenizers==0.8.1.rc1\n",
            "\u001b[?25l  Downloading https://files.pythonhosted.org/packages/40/d0/30d5f8d221a0ed981a186c8eb986ce1c94e3a6e87f994eae9f4aa5250217/tokenizers-0.8.1rc1-cp36-cp36m-manylinux1_x86_64.whl (3.0MB)\n",
            "\u001b[K     |████████████████████████████████| 3.0MB 27.0MB/s \n",
            "\u001b[?25hRequirement already satisfied: click in /usr/local/lib/python3.6/dist-packages (from sacremoses->transformers==3.0.2->camel-tools==0.4.dev5) (7.1.2)\n",
            "Requirement already satisfied: pyparsing>=2.0.2 in /usr/local/lib/python3.6/dist-packages (from packaging->transformers==3.0.2->camel-tools==0.4.dev5) (2.4.7)\n",
            "Requirement already satisfied: idna<3,>=2.5 in /usr/local/lib/python3.6/dist-packages (from requests->transformers==3.0.2->camel-tools==0.4.dev5) (2.10)\n",
            "Requirement already satisfied: chardet<4,>=3.0.2 in /usr/local/lib/python3.6/dist-packages (from requests->transformers==3.0.2->camel-tools==0.4.dev5) (3.0.4)\n",
            "Requirement already satisfied: certifi>=2017.4.17 in /usr/local/lib/python3.6/dist-packages (from requests->transformers==3.0.2->camel-tools==0.4.dev5) (2020.6.20)\n",
            "Requirement already satisfied: urllib3!=1.25.0,!=1.25.1,<1.26,>=1.21.1 in /usr/local/lib/python3.6/dist-packages (from requests->transformers==3.0.2->camel-tools==0.4.dev5) (1.24.3)\n",
            "Building wheels for collected packages: camel-tools, kenlm, sacremoses\n",
            "  Building wheel for camel-tools (setup.py) ... \u001b[?25l\u001b[?25hdone\n",
            "  Created wheel for camel-tools: filename=camel_tools-0.4.dev5-cp36-none-any.whl size=92048 sha256=59b567b05625f7e8e326e3b3cc71d6bf207ebf3728a90a6c34864088aa850e08\n",
            "  Stored in directory: /tmp/pip-ephem-wheel-cache-ji5fvl9w/wheels/b8/93/8a/7c008d121b2f314009d6941bbf49a024ca69f7874f54faa1f4\n",
            "  Building wheel for kenlm (setup.py) ... \u001b[?25l\u001b[?25hdone\n",
            "  Created wheel for kenlm: filename=kenlm-0.0.0-cp36-cp36m-linux_x86_64.whl size=2338216 sha256=0dba7a8a68cfb27ee63c20301b2bcfcba0813bd0aa1fd93309811ff6974f97e1\n",
            "  Stored in directory: /tmp/pip-ephem-wheel-cache-ji5fvl9w/wheels/2d/32/73/e3093c9d11dc8abf79c156a4db1a1c5631428059d4f9ff2cba\n",
            "  Building wheel for sacremoses (setup.py) ... \u001b[?25l\u001b[?25hdone\n",
            "  Created wheel for sacremoses: filename=sacremoses-0.0.43-cp36-none-any.whl size=893257 sha256=5652c2fd1d1c4492a01decd6732c8b38911419304e447bf88f5b4887bbda1eb5\n",
            "  Stored in directory: /root/.cache/pip/wheels/29/3c/fd/7ce5c3f0666dab31a50123635e6fb5e19ceb42ce38d4e58f45\n",
            "Successfully built camel-tools kenlm sacremoses\n",
            "Installing collected packages: sacremoses, sentencepiece, tokenizers, transformers, kenlm, camel-tools\n",
            "Successfully installed camel-tools-0.4.dev5 kenlm-0.0.0 sacremoses-0.0.43 sentencepiece-0.1.94 tokenizers-0.8.1rc1 transformers-3.0.2\n"
          ],
          "name": "stdout"
        }
      ]
    },
    {
      "cell_type": "code",
      "metadata": {
        "id": "Q25J7UZPP2h5",
        "outputId": "bad6d721-36d0-49c2-fba8-c430569cc109",
        "colab": {
          "base_uri": "https://localhost:8080/"
        }
      },
      "source": [
        "# just to make sure that all packages installed correctly (sentiment, ner, ...)\n",
        "!ls /usr/local/lib/python3.6/dist-packages/camel_tools/"
      ],
      "execution_count": 7,
      "outputs": [
        {
          "output_type": "stream",
          "text": [
            "cli   dialectid  __init__.py  ner\t   sentiment  tokenizers  VERSION\n",
            "data  disambig\t morphology   __pycache__  tagger     utils\n"
          ],
          "name": "stdout"
        }
      ]
    },
    {
      "cell_type": "markdown",
      "metadata": {
        "id": "R-JOZGlxhysH"
      },
      "source": [
        "# **CAMeL Demo**\n",
        "\n",
        "[documentation](https://camel-tools.readthedocs.io/en/latest/index.html)\n",
        "* credit: examples and code taken from docs "
      ]
    },
    {
      "cell_type": "code",
      "metadata": {
        "id": "Cnss98EwhvLG",
        "outputId": "b66c953c-14e8-47a1-f0e4-f8be0d1365f8",
        "colab": {
          "base_uri": "https://localhost:8080/"
        }
      },
      "source": [
        "# Transliteration\n",
        "\n",
        "from camel_tools.utils.transliterate import Transliterator, CharMapper\n",
        "scheme = 'ar2bw'\n",
        "marker = '@@IGNORE@@' # @@LAT@@\n",
        "\n",
        "mapper = CharMapper.builtin_mapper(scheme)\n",
        "trans = Transliterator(mapper, marker)\n",
        "arabic = 'السلام عليكم'\n",
        "result = trans.transliterate(arabic)\n",
        "print(f'Arabic: {arabic}')\n",
        "print(f'Buckwalter: {result}')\n",
        "\n",
        "scheme = 'bw2ar'\n",
        "marker = '@@IGNORE@@' # @@LAT@@\n",
        "print('=======')\n",
        "mapper = CharMapper.builtin_mapper(scheme)\n",
        "trans = Transliterator(mapper, marker)\n",
        "bw = 'AlslAm Elykm'\n",
        "result = trans.transliterate(bw)\n",
        "print(f'Buckwalter: {bw}')\n",
        "print(f'Arabic: {result}')\n"
      ],
      "execution_count": 23,
      "outputs": [
        {
          "output_type": "stream",
          "text": [
            "Arabic: السلام عليكم\n",
            "Buckwalter: AlslAm Elykm\n",
            "=======\n",
            "Buckwalter: AlslAm Elykm\n",
            "Arabic: السلام عليكم\n"
          ],
          "name": "stdout"
        }
      ]
    },
    {
      "cell_type": "code",
      "metadata": {
        "id": "LuWaIiZOsEP-",
        "outputId": "6a43c841-e10e-45f8-cb9b-82ded8fc214d",
        "colab": {
          "base_uri": "https://localhost:8080/"
        }
      },
      "source": [
        "# normalization\n",
        "\n",
        "from camel_tools.utils import normalize\n",
        "print(normalize.normalize_alef_ar(\"اأإآ\"))\n",
        "print(normalize.normalize_teh_marbuta_ar(\"صفحة جديدة مكتبة\"))\n"
      ],
      "execution_count": 24,
      "outputs": [
        {
          "output_type": "stream",
          "text": [
            "اااا\n",
            "صفحه جديده مكتبه\n"
          ],
          "name": "stdout"
        }
      ]
    },
    {
      "cell_type": "code",
      "metadata": {
        "id": "EbZLiyz3l8g7"
      },
      "source": [
        "# NER\n",
        "from camel_tools.ner import NERecognizer\n",
        "\n",
        "ner = NERecognizer.pretrained('arabert')\n"
      ],
      "execution_count": 16,
      "outputs": []
    },
    {
      "cell_type": "code",
      "metadata": {
        "id": "6h9Phwn1QCix",
        "outputId": "be379324-ab31-43f7-8da9-3fcc74bf5e1f",
        "colab": {
          "base_uri": "https://localhost:8080/"
        }
      },
      "source": [
        "# Predict the labels of a single sentence.\n",
        "# The sentence must be pretokenized by whitespace and punctuation.\n",
        "#sentence = 'محمد عبده ولد في محافظة الدرب في منطقة جازان جنوب السعودية.'.split()\n",
        "sentence = 'شركة أرامكو مقرها مدينة الظهران في المملكة العربية السعودية، ويرأسها المهندس أمين الناصر.'.split()\n",
        "labels = ner.predict_sentence(sentence)\n",
        "\n",
        "# Print the list of token-label pairs\n",
        "for item in list(zip(sentence, labels)):\n",
        "  print(item)\n",
        "\n",
        "# O: other\n",
        "# LOC: location\n",
        "# PERS: Person\n",
        "# ORG: Organization\n",
        "# B- denotes the beginning and I- inside of an entity"
      ],
      "execution_count": 25,
      "outputs": [
        {
          "output_type": "stream",
          "text": [
            "('شركة', 'O')\n",
            "('أرامكو', 'B-ORG')\n",
            "('مقرها', 'O')\n",
            "('مدينة', 'O')\n",
            "('الظهران', 'B-LOC')\n",
            "('في', 'O')\n",
            "('المملكة', 'B-LOC')\n",
            "('العربية', 'I-LOC')\n",
            "('السعودية،', 'I-LOC')\n",
            "('ويرأسها', 'O')\n",
            "('المهندس', 'O')\n",
            "('أمين', 'B-PERS')\n",
            "('الناصر.', 'I-PERS')\n"
          ],
          "name": "stdout"
        }
      ]
    },
    {
      "cell_type": "code",
      "metadata": {
        "id": "QQo6N5Fan9Hq",
        "outputId": "99d36862-8cd9-4acd-c876-46c596462191",
        "colab": {
          "base_uri": "https://localhost:8080/"
        }
      },
      "source": [
        "# Dialect Identification\n",
        "from camel_tools.dialectid import DialectIdentifier\n",
        "\n",
        "did = DialectIdentifier.pretrained()\n"
      ],
      "execution_count": 18,
      "outputs": [
        {
          "output_type": "stream",
          "text": [
            "/usr/local/lib/python3.6/dist-packages/sklearn/base.py:318: UserWarning: Trying to unpickle estimator LabelEncoder from version 0.23.2 when using version 0.22.2.post1. This might lead to breaking code or invalid results. Use at your own risk.\n",
            "  UserWarning)\n",
            "/usr/local/lib/python3.6/dist-packages/sklearn/base.py:318: UserWarning: Trying to unpickle estimator TfidfTransformer from version 0.23.2 when using version 0.22.2.post1. This might lead to breaking code or invalid results. Use at your own risk.\n",
            "  UserWarning)\n",
            "/usr/local/lib/python3.6/dist-packages/sklearn/base.py:318: UserWarning: Trying to unpickle estimator TfidfVectorizer from version 0.23.2 when using version 0.22.2.post1. This might lead to breaking code or invalid results. Use at your own risk.\n",
            "  UserWarning)\n",
            "/usr/local/lib/python3.6/dist-packages/sklearn/base.py:318: UserWarning: Trying to unpickle estimator FeatureUnion from version 0.23.2 when using version 0.22.2.post1. This might lead to breaking code or invalid results. Use at your own risk.\n",
            "  UserWarning)\n",
            "/usr/local/lib/python3.6/dist-packages/sklearn/base.py:318: UserWarning: Trying to unpickle estimator MultinomialNB from version 0.23.2 when using version 0.22.2.post1. This might lead to breaking code or invalid results. Use at your own risk.\n",
            "  UserWarning)\n",
            "/usr/local/lib/python3.6/dist-packages/sklearn/base.py:318: UserWarning: Trying to unpickle estimator LabelBinarizer from version 0.23.2 when using version 0.22.2.post1. This might lead to breaking code or invalid results. Use at your own risk.\n",
            "  UserWarning)\n",
            "/usr/local/lib/python3.6/dist-packages/sklearn/base.py:318: UserWarning: Trying to unpickle estimator OneVsRestClassifier from version 0.23.2 when using version 0.22.2.post1. This might lead to breaking code or invalid results. Use at your own risk.\n",
            "  UserWarning)\n"
          ],
          "name": "stderr"
        }
      ]
    },
    {
      "cell_type": "code",
      "metadata": {
        "id": "zmnqplbIpNiM",
        "outputId": "0c59e252-d5c5-43c2-f3e7-4a3d0ddfcaa4",
        "colab": {
          "base_uri": "https://localhost:8080/"
        }
      },
      "source": [
        "sentences = [\n",
        "    'وش فيك تتكلم كذا؟',\n",
        "    'اشبك تهرج كدا؟',\n",
        "    'انت عاوز مني ايه؟',\n",
        "    'مال الهوى و مالي شكون اللي جابني ليك  ما كنت انايا ف حالي بلاو قلبي يانا بيك',\n",
        "    'بدي دوب قلي قلي بجنون بحبك انا مجنون ما بنسى حبك يوم'\n",
        "]\n",
        "\n",
        "predictions = did.predict(sentences)\n",
        "\n",
        "# Each prediction is a tuple containing both the top prediction and the\n",
        "# percentage score of each dialect. To get only the top prediction, we can\n",
        "# do the following:\n",
        "top_dialects = [p.top for p in predictions]\n",
        "for sent, p in zip(sentences,predictions):\n",
        "  print(sent,p.top)\n",
        "\n",
        "# RIY: Riyadh\n",
        "# JED: Jeddah\n",
        "# RAB: Rabat\n",
        "# BEI: Beirut"
      ],
      "execution_count": 27,
      "outputs": [
        {
          "output_type": "stream",
          "text": [
            "وش فيك تتكلم كذا؟ RIY\n",
            "اشبك تهرج كدا؟ JED\n",
            "انت عاوز مني ايه؟ ASW\n",
            "مال الهوى و مالي شكون اللي جابني ليك  ما كنت انايا ف حالي بلاو قلبي يانا بيك RAB\n",
            "بدي دوب قلي قلي بجنون بحبك انا مجنون ما بنسى حبك يوم BEI\n"
          ],
          "name": "stdout"
        }
      ]
    },
    {
      "cell_type": "code",
      "metadata": {
        "id": "JLk8iSxOpvPT",
        "outputId": "aff5ece1-eee0-407a-8b5d-6d71a9220541",
        "colab": {
          "base_uri": "https://localhost:8080/",
          "height": 293
        }
      },
      "source": [
        "import pandas as pd\n",
        "sentence = 'فيه ايه؟'\n",
        "sentence = 'انت عاوز مني ايه؟'\n",
        "predictions = did.predict([sentence])\n",
        "sorted_cities = sorted(predictions[0].scores.items(),key=lambda x: x[1],reverse=True)\n",
        "#print(sorted_cities)\n",
        "df = pd.DataFrame(sorted_cities,columns=['City','Score']).set_index('City')\n",
        "plt = df.plot.bar()"
      ],
      "execution_count": 28,
      "outputs": [
        {
          "output_type": "display_data",
          "data": {
            "image/png": "[encoded data removed]",
            "text/plain": [
              "<Figure size 432x288 with 1 Axes>"
            ]
          },
          "metadata": {
            "tags": [],
            "needs_background": "light"
          }
        }
      ]
    },
    {
      "cell_type": "code",
      "metadata": {
        "id": "tp3zA0d8Qnio",
        "outputId": "0430fda7-e42c-41f1-89b3-7fea5dcffa83",
        "colab": {
          "base_uri": "https://localhost:8080/"
        }
      },
      "source": [
        "from camel_tools.sentiment import SentimentAnalyzer\n",
        "\n",
        "sa = SentimentAnalyzer.pretrained()\n",
        "\n",
        "# Predict the sentiment of a single sentence\n",
        "sentiment = sa.predict_sentence('أنا بخير')\n",
        "print(sentiment)\n",
        "# Predict the sentiment of multiple sentences\n",
        "sentences = [\n",
        "    'أنا بخير',\n",
        "    'أنا لست بخير',\n",
        "    'اليوم هو الثاني من محرم'\n",
        "]\n",
        "predictions = sa.predict(sentences)\n",
        "for sent, p in zip(sentences,predictions):\n",
        "  print(sent,p)"
      ],
      "execution_count": 29,
      "outputs": [
        {
          "output_type": "stream",
          "text": [
            "positive\n",
            "أنا بخير positive\n",
            "أنا لست بخير negative\n",
            "اليوم هو الثاني من محرم neutral\n"
          ],
          "name": "stdout"
        }
      ]
    },
    {
      "cell_type": "code",
      "metadata": {
        "id": "HsYd4wcQg5wR",
        "outputId": "e5a0c1ee-e1ee-4932-b524-51341b6f700a",
        "colab": {
          "base_uri": "https://localhost:8080/"
        }
      },
      "source": [
        "sentences = [\n",
        "    'يا شينك',\n",
        "    'يا ملحك',\n",
        "    'اشبك؟',\n",
        "    'وش فيك؟',\n",
        "]\n",
        "predictions = sa.predict(sentences)\n",
        "for sent, p in zip(sentences,predictions):\n",
        "  print(sent,p)"
      ],
      "execution_count": 30,
      "outputs": [
        {
          "output_type": "stream",
          "text": [
            "يا شينك negative\n",
            "يا ملحك positive\n",
            "اشبك؟ negative\n",
            "وش فيك؟ negative\n"
          ],
          "name": "stdout"
        }
      ]
    },
    {
      "cell_type": "code",
      "metadata": {
        "id": "X3Y3GVcOrDu0"
      },
      "source": [
        ""
      ],
      "execution_count": null,
      "outputs": []
    }
  ]
}