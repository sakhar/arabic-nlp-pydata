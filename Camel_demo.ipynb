{
  "nbformat": 4,
  "nbformat_minor": 0,
  "metadata": {
    "colab": {
      "name": "Camel demo.ipynb",
      "provenance": [],
      "collapsed_sections": [],
      "authorship_tag": "ABX9TyNkl+CInMU3E8IWDkyygBdV",
      "include_colab_link": true
    },
    "kernelspec": {
      "name": "python3",
      "display_name": "Python 3"
    }
  },
  "cells": [
    {
      "cell_type": "markdown",
      "metadata": {
        "id": "view-in-github",
        "colab_type": "text"
      },
      "source": [
        "<a href=\"https://colab.research.google.com/github/sakhar/arabic-nlp-pydata/blob/main/Camel_demo.ipynb\" target=\"_parent\"><img src=\"https://colab.research.google.com/assets/colab-badge.svg\" alt=\"Open In Colab\"/></a>"
      ]
    },
    {
      "cell_type": "markdown",
      "metadata": {
        "id": "HRmmBxBJe9Ti"
      },
      "source": [
        "# Before Starting\n",
        "* Create a folder named \"pydata-arabic-nlp\" in your Google Drive\n",
        "* Upload \"camel_tools_data_v1.zip\" to that folder (download from \n",
        "[here](https://github.com/CAMeL-Lab/camel_tools))\n"
      ]
    },
    {
      "cell_type": "code",
      "metadata": {
        "id": "S4pk8woyMjf3",
        "outputId": "ff8e2c0e-d51c-40b0-e0e0-ad0c5f455e87",
        "colab": {
          "base_uri": "https://localhost:8080/"
        }
      },
      "source": [
        "# mounting Google Drive to Colab\n",
        "from google.colab import drive\n",
        "import os\n",
        "drive.mount('/gdrive', force_remount=True)\n",
        "\n",
        "# your google drive path\n",
        "GD_PRJOECT_DIR = 'pydata-arabic-nlp'\n",
        "#os.chdir('/gdrive/My Drive/pydata-arabic-nlp')\n",
        "os.chdir(os.path.join('/gdrive/My Drive/','pydata-arabic-nlp'))"
      ],
      "execution_count": 2,
      "outputs": [
        {
          "output_type": "stream",
          "text": [
            "Mounted at /gdrive\n"
          ],
          "name": "stdout"
        }
      ]
    },
    {
      "cell_type": "code",
      "metadata": {
        "id": "_twlI5fsPXSe"
      },
      "source": [
        "# install camel data\n",
        "!unzip camel_tools_data_v1.zip -d ~/.camel_tools"
      ],
      "execution_count": null,
      "outputs": []
    },
    {
      "cell_type": "code",
      "metadata": {
        "id": "KZk6C3hHPmyU"
      },
      "source": [
        "# export CAMELTOOLS_DATA path (must be before installation)\n",
        "%env CAMELTOOLS_DATA=/root/.camel_tools/camel_tools_data_v1/"
      ],
      "execution_count": null,
      "outputs": []
    },
    {
      "cell_type": "code",
      "metadata": {
        "id": "19LLKU1XPqTf",
        "outputId": "f387ea68-3ad7-4db7-8027-ac615fb2049a",
        "colab": {
          "base_uri": "https://localhost:8080/"
        }
      },
      "source": [
        "# make sure you have araBERT model under the corresponding folder\n",
        "!ls ~/.camel_tools/camel_tools_data_v1/data/ner/arabert\n"
      ],
      "execution_count": 35,
      "outputs": [
        {
          "output_type": "stream",
          "text": [
            "config.json  pytorch_model.bin\t      tokenizer_config.json  vocab.txt\n",
            "LICENSE      special_tokens_map.json  training_args.bin\n"
          ],
          "name": "stdout"
        }
      ]
    },
    {
      "cell_type": "code",
      "metadata": {
        "id": "kvKVw7cCPwqm"
      },
      "source": [
        "# install camel tools from source, if there are issues, try second command\n",
        "!pip install git+https://github.com/CAMeL-Lab/camel_tools\n",
        "#!pip install --upgrade --force-reinstall git+https://github.com/CAMeL-Lab/camel_tools"
      ],
      "execution_count": null,
      "outputs": []
    },
    {
      "cell_type": "code",
      "metadata": {
        "id": "Q25J7UZPP2h5",
        "outputId": "bad6d721-36d0-49c2-fba8-c430569cc109",
        "colab": {
          "base_uri": "https://localhost:8080/"
        }
      },
      "source": [
        "# just to make sure that all packages installed correctly (sentiment, ner, ...)\n",
        "!ls /usr/local/lib/python3.6/dist-packages/camel_tools/"
      ],
      "execution_count": 7,
      "outputs": [
        {
          "output_type": "stream",
          "text": [
            "cli   dialectid  __init__.py  ner\t   sentiment  tokenizers  VERSION\n",
            "data  disambig\t morphology   __pycache__  tagger     utils\n"
          ],
          "name": "stdout"
        }
      ]
    },
    {
      "cell_type": "markdown",
      "metadata": {
        "id": "R-JOZGlxhysH"
      },
      "source": [
        "# **CAMeL Demo**\n",
        "\n",
        "[documentation](https://camel-tools.readthedocs.io/en/latest/index.html)\n",
        "* credit: examples and code taken from docs "
      ]
    },
    {
      "cell_type": "code",
      "metadata": {
        "id": "Cnss98EwhvLG",
        "outputId": "0f461a92-58d3-4f67-b9c7-0415093b6c2d",
        "colab": {
          "base_uri": "https://localhost:8080/"
        }
      },
      "source": [
        "# Transliteration\n",
        "\n",
        "from camel_tools.utils.transliterate import Transliterator, CharMapper\n",
        "scheme = 'ar2bw'\n",
        "marker = '@@IGNORE@@' # @@LAT@@\n",
        "\n",
        "mapper = CharMapper.builtin_mapper(scheme)\n",
        "trans = Transliterator(mapper, marker)\n",
        "arabic = 'السلام عليكم'\n",
        "result = trans.transliterate(arabic)\n",
        "print(f'Arabic: {arabic}')\n",
        "print(f'Buckwalter: {result}')\n",
        "\n",
        "scheme = 'bw2ar'\n",
        "marker = '@@IGNORE@@' # @@LAT@@\n",
        "print('=======')\n",
        "mapper = CharMapper.builtin_mapper(scheme)\n",
        "trans = Transliterator(mapper, marker)\n",
        "bw = 'AlslAm Elykm'\n",
        "result = trans.transliterate(bw)\n",
        "print(f'Buckwalter: {bw}')\n",
        "print(f'Arabic: {result}')\n"
      ],
      "execution_count": 36,
      "outputs": [
        {
          "output_type": "stream",
          "text": [
            "Arabic: السلام عليكم\n",
            "Buckwalter: AlslAm Elykm\n",
            "=======\n",
            "Buckwalter: AlslAm Elykm\n",
            "Arabic: السلام عليكم\n"
          ],
          "name": "stdout"
        }
      ]
    },
    {
      "cell_type": "code",
      "metadata": {
        "id": "LuWaIiZOsEP-",
        "outputId": "8a6ef26c-0a9b-444c-b143-629f656a997d",
        "colab": {
          "base_uri": "https://localhost:8080/"
        }
      },
      "source": [
        "# normalization\n",
        "\n",
        "from camel_tools.utils import normalize\n",
        "print(normalize.normalize_alef_ar(\"اأإآ\"))\n",
        "print(normalize.normalize_teh_marbuta_ar(\"صفحة جديدة مكتبة\"))\n"
      ],
      "execution_count": 37,
      "outputs": [
        {
          "output_type": "stream",
          "text": [
            "اااا\n",
            "صفحه جديده مكتبه\n"
          ],
          "name": "stdout"
        }
      ]
    },
    {
      "cell_type": "code",
      "metadata": {
        "id": "EbZLiyz3l8g7"
      },
      "source": [
        "# NER\n",
        "from camel_tools.ner import NERecognizer\n",
        "\n",
        "# init the model\n",
        "ner = NERecognizer.pretrained('arabert')\n"
      ],
      "execution_count": 38,
      "outputs": []
    },
    {
      "cell_type": "code",
      "metadata": {
        "id": "6h9Phwn1QCix",
        "outputId": "be379324-ab31-43f7-8da9-3fcc74bf5e1f",
        "colab": {
          "base_uri": "https://localhost:8080/"
        }
      },
      "source": [
        "# Predict the labels of a single sentence.\n",
        "# The sentence must be pretokenized by whitespace and punctuation.\n",
        "#sentence = 'محمد عبده ولد في محافظة الدرب في منطقة جازان جنوب السعودية.'.split()\n",
        "sentence = 'شركة أرامكو مقرها مدينة الظهران في المملكة العربية السعودية، ويرأسها المهندس أمين الناصر.'.split()\n",
        "labels = ner.predict_sentence(sentence)\n",
        "\n",
        "# Print the list of token-label pairs\n",
        "for item in list(zip(sentence, labels)):\n",
        "  print(item)\n",
        "\n",
        "# O: other\n",
        "# LOC: location\n",
        "# PERS: Person\n",
        "# ORG: Organization\n",
        "# B- denotes the beginning and I- inside of an entity"
      ],
      "execution_count": 25,
      "outputs": [
        {
          "output_type": "stream",
          "text": [
            "('شركة', 'O')\n",
            "('أرامكو', 'B-ORG')\n",
            "('مقرها', 'O')\n",
            "('مدينة', 'O')\n",
            "('الظهران', 'B-LOC')\n",
            "('في', 'O')\n",
            "('المملكة', 'B-LOC')\n",
            "('العربية', 'I-LOC')\n",
            "('السعودية،', 'I-LOC')\n",
            "('ويرأسها', 'O')\n",
            "('المهندس', 'O')\n",
            "('أمين', 'B-PERS')\n",
            "('الناصر.', 'I-PERS')\n"
          ],
          "name": "stdout"
        }
      ]
    },
    {
      "cell_type": "code",
      "metadata": {
        "id": "QQo6N5Fan9Hq"
      },
      "source": [
        "# Dialect Identification\n",
        "from camel_tools.dialectid import DialectIdentifier\n",
        "\n",
        "# init the model\n",
        "did = DialectIdentifier.pretrained()\n"
      ],
      "execution_count": null,
      "outputs": []
    },
    {
      "cell_type": "code",
      "metadata": {
        "id": "zmnqplbIpNiM",
        "outputId": "0c3c6ca1-33f6-4248-aa2f-47d3a07baa42",
        "colab": {
          "base_uri": "https://localhost:8080/"
        }
      },
      "source": [
        "sentences = [\n",
        "    'وش فيك تتكلم كذا؟',\n",
        "    'اشبك تهرج كدا؟',\n",
        "    'انت عاوز مني ايه؟',\n",
        "    'مال الهوى و مالي شكون اللي جابني ليك  ما كنت انايا ف حالي بلاو قلبي يانا بيك',\n",
        "    'بدي دوب قلي قلي بجنون بحبك انا مجنون ما بنسى حبك يوم'\n",
        "]\n",
        "\n",
        "predictions = did.predict(sentences)\n",
        "\n",
        "# Each prediction is a tuple containing both the top prediction and the\n",
        "# percentage score of each dialect. To get only the top prediction, we can\n",
        "# do the following:\n",
        "top_dialects = [p.top for p in predictions]\n",
        "for sent, p in zip(sentences,predictions):\n",
        "  print(sent,p.top)\n",
        "\n",
        "# RIY: Riyadh\n",
        "# JED: Jeddah\n",
        "# RAB: Rabat\n",
        "# BEI: Beirut"
      ],
      "execution_count": 40,
      "outputs": [
        {
          "output_type": "stream",
          "text": [
            "وش فيك تتكلم كذا؟ RIY\n",
            "اشبك تهرج كدا؟ JED\n",
            "انت عاوز مني ايه؟ ASW\n",
            "مال الهوى و مالي شكون اللي جابني ليك  ما كنت انايا ف حالي بلاو قلبي يانا بيك RAB\n",
            "بدي دوب قلي قلي بجنون بحبك انا مجنون ما بنسى حبك يوم BEI\n"
          ],
          "name": "stdout"
        }
      ]
    },
    {
      "cell_type": "code",
      "metadata": {
        "id": "JLk8iSxOpvPT",
        "outputId": "aff5ece1-eee0-407a-8b5d-6d71a9220541",
        "colab": {
          "base_uri": "https://localhost:8080/",
          "height": 293
        }
      },
      "source": [
        "# plot the probabilities for each dialect\n",
        "import pandas as pd\n",
        "sentence = 'فيه ايه؟'\n",
        "sentence = 'انت عاوز مني ايه؟'\n",
        "predictions = did.predict([sentence])\n",
        "sorted_cities = sorted(predictions[0].scores.items(),key=lambda x: x[1],reverse=True)\n",
        "#print(sorted_cities)\n",
        "df = pd.DataFrame(sorted_cities,columns=['City','Score']).set_index('City')\n",
        "plt = df.plot.bar()"
      ],
      "execution_count": 28,
      "outputs": [
        {
          "output_type": "display_data",
          "data": {
            "image/png": "[encoded data removed]",
            "text/plain": [
              "<Figure size 432x288 with 1 Axes>"
            ]
          },
          "metadata": {
            "tags": [],
            "needs_background": "light"
          }
        }
      ]
    },
    {
      "cell_type": "code",
      "metadata": {
        "id": "tp3zA0d8Qnio",
        "outputId": "900caa92-a917-4cd5-fbbc-e6d4566f436d",
        "colab": {
          "base_uri": "https://localhost:8080/"
        }
      },
      "source": [
        "from camel_tools.sentiment import SentimentAnalyzer\n",
        "\n",
        "sa = SentimentAnalyzer.pretrained()\n",
        "\n",
        "# Predict the sentiment of a single sentence\n",
        "sentiment = sa.predict_sentence('أنا بخير')\n",
        "print(sentiment)\n",
        "# Predict the sentiment of multiple sentences\n",
        "sentences = [\n",
        "    'أنا بخير',\n",
        "    'أنا لست بخير',\n",
        "    'اليوم هو الثاني من محرم'\n",
        "]\n",
        "predictions = sa.predict(sentences)\n",
        "for sent, p in zip(sentences,predictions):\n",
        "  print(sent,p)"
      ],
      "execution_count": 41,
      "outputs": [
        {
          "output_type": "stream",
          "text": [
            "positive\n",
            "أنا بخير positive\n",
            "أنا لست بخير negative\n",
            "اليوم هو الثاني من محرم neutral\n"
          ],
          "name": "stdout"
        }
      ]
    },
    {
      "cell_type": "code",
      "metadata": {
        "id": "HsYd4wcQg5wR",
        "outputId": "943f1bf4-ef6c-4bf8-e60d-b78c979dde71",
        "colab": {
          "base_uri": "https://localhost:8080/"
        }
      },
      "source": [
        "sentences = [\n",
        "    'يا شينك',\n",
        "    'يا ملحك',\n",
        "    'اشبك؟',\n",
        "    'وش فيك؟',\n",
        "]\n",
        "predictions = sa.predict(sentences)\n",
        "for sent, p in zip(sentences,predictions):\n",
        "  print(sent,p)"
      ],
      "execution_count": 42,
      "outputs": [
        {
          "output_type": "stream",
          "text": [
            "يا شينك negative\n",
            "يا ملحك positive\n",
            "اشبك؟ negative\n",
            "وش فيك؟ negative\n"
          ],
          "name": "stdout"
        }
      ]
    },
    {
      "cell_type": "code",
      "metadata": {
        "id": "X3Y3GVcOrDu0"
      },
      "source": [
        ""
      ],
      "execution_count": null,
      "outputs": []
    }
  ]
}